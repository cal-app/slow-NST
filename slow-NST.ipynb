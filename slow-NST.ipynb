{
 "cells": [
  {
   "cell_type": "markdown",
   "metadata": {},
   "source": [
    "# Slow Neural Style Transfer"
   ]
  },
  {
   "cell_type": "code",
   "execution_count": null,
   "metadata": {},
   "outputs": [],
   "source": [
    "import os\n",
    "import sys\n",
    "import matplotlib.pyplot as plt\n",
    "from matplotlib.pyplot import imshow\n",
    "from PIL import Image\n",
    "import numpy as np\n",
    "import tensorflow as tf\n",
    "from VGGutils import *\n",
    "from costutils import *\n",
    "\n",
    "%matplotlib inline"
   ]
  },
  {
   "cell_type": "code",
   "execution_count": null,
   "metadata": {},
   "outputs": [],
   "source": [
    "# Select which layers you want to contribute to the style loss function and their weighing\n",
    "# Later layers = more \"emergent\" features\n",
    "# Early layers = more emphasis on basic features (lines, basic shapes)\n",
    "\n",
    "STYLE_LAYERS = [\n",
    "    ('conv1_1', 0.01),\n",
    "    ('conv2_1', 0.01),\n",
    "    ('conv3_1', 0.02),\n",
    "    ('conv4_1', 0.05),\n",
    "    ('conv5_1', 0.1)]"
   ]
  },
  {
   "cell_type": "code",
   "execution_count": null,
   "metadata": {},
   "outputs": [],
   "source": [
    "# Selection the activation layer\n",
    "ACTIVATION_LAYER = 'conv4_2'"
   ]
  },
  {
   "cell_type": "code",
   "execution_count": null,
   "metadata": {},
   "outputs": [],
   "source": [
    "# tf.InteractiveSession.close(sess)"
   ]
  },
  {
   "cell_type": "code",
   "execution_count": null,
   "metadata": {},
   "outputs": [],
   "source": [
    "# Reset the graph\n",
    "tf.reset_default_graph()\n",
    "\n",
    "# Start interactive session\n",
    "sess = tf.InteractiveSession()"
   ]
  },
  {
   "cell_type": "code",
   "execution_count": null,
   "metadata": {},
   "outputs": [],
   "source": [
    "content_image = plt.imread(\"images/content/your_content_img.jpg\")\n",
    "content_image = reshape_and_normalize_image(content_image) # reshape just adds an extra dimension for VGGto be happy\n",
    "imshow(content_image[0])"
   ]
  },
  {
   "cell_type": "code",
   "execution_count": null,
   "metadata": {},
   "outputs": [],
   "source": [
    "style_image = plt.imread(\"images/style/your_style_img.jpg\")\n",
    "style_image = reshape_and_normalize_image(style_image)\n",
    "imshow(style_image[0])"
   ]
  },
  {
   "cell_type": "code",
   "execution_count": null,
   "metadata": {},
   "outputs": [],
   "source": [
    "\"\"\"\n",
    "If desired, provide a binary mask to select regions where the style filter will be applied\n",
    "\"\"\"\n",
    "\n",
    "#content_mask = plt.imread(\"images/content/your_content_mask.jpg\")\n",
    "#content_mask = np.reshape(content_mask, ((1,) + content_mask.shape))\n",
    "#content_mask = content_mask/255\"\"\""
   ]
  },
  {
   "cell_type": "code",
   "execution_count": null,
   "metadata": {
    "scrolled": true
   },
   "outputs": [],
   "source": [
    "generated_image = generate_noise_image(content_image, 0.2)\n",
    "imshow(generated_image[0])"
   ]
  },
  {
   "cell_type": "code",
   "execution_count": null,
   "metadata": {},
   "outputs": [],
   "source": [
    "model = load_vgg_model(CONFIG.VGG_MODEL)"
   ]
  },
  {
   "cell_type": "code",
   "execution_count": null,
   "metadata": {},
   "outputs": [],
   "source": [
    "# Assign the content image to be the input of the VGG model.  \n",
    "sess.run(model['input'].assign(content_image))\n",
    "\n",
    "# The activation layer output\n",
    "out = model[ACTIVATION_LAYER]\n",
    "\n",
    "# The content activation is the output from that layer evaluated\n",
    "a_C = sess.run(out)\n",
    "\n",
    "# Define the generated activation output, from the same layer\n",
    "# We don't evaluate it yet\n",
    "a_G = out\n",
    "\n",
    "# Content cost\n",
    "J_content = compute_content_cost(a_C, a_G)"
   ]
  },
  {
   "cell_type": "code",
   "execution_count": null,
   "metadata": {},
   "outputs": [],
   "source": [
    "# Assign the style image to be the input of the VGG model. \n",
    "sess.run(model['input'].assign(style_image))\n",
    "\n",
    "# Style cost\n",
    "J_style = compute_style_cost(sess, model, STYLE_LAYERS, content_mask =  None)"
   ]
  },
  {
   "cell_type": "code",
   "execution_count": null,
   "metadata": {},
   "outputs": [],
   "source": [
    "# Total cost\n",
    "J = total_cost(J_content, J_style, alpha = 100, beta = 0.1)"
   ]
  },
  {
   "cell_type": "code",
   "execution_count": null,
   "metadata": {},
   "outputs": [],
   "source": [
    "# Optimizer\n",
    "# The idea is to minimize the total loss with respect to the generated image\n",
    "# This means that the input image wile will be tweaked at each iteration\n",
    "optimizer = tf.train.AdamOptimizer(2.0)\n",
    "train_step = optimizer.minimize(J)"
   ]
  },
  {
   "cell_type": "code",
   "execution_count": null,
   "metadata": {},
   "outputs": [],
   "source": [
    "def model_nst(sess, input_image, num_iterations = 1000):\n",
    "    \n",
    "    sess.run(tf.global_variables_initializer())\n",
    "    \n",
    "    # Set the noisy image as input to the model\n",
    "    sess.run(model['input'].assign(input_image))\n",
    "    \n",
    "    for i in range(num_iterations):\n",
    "    \n",
    "        # Minimize the total cost\n",
    "        sess.run(train_step)\n",
    "        \n",
    "        # Retrieves the generated image, which is the new \"input\" after minimizing the total cost\n",
    "        generated_image = sess.run(model['input'])\n",
    "\n",
    "        # Every 100 iterations, print the costs\n",
    "        if i%100 == 0:\n",
    "            Jt, Jc, Js = sess.run([J, J_content, J_style])\n",
    "            print(\"Iteration \" + str(i) + \" :\")\n",
    "            print(\"total cost = \" + str(Jt))\n",
    "            print(\"content cost = \" + str(Jc))\n",
    "            print(\"style cost = \" + str(Js))\n",
    "            \n",
    "            # save current intermediate generated image to the output directory\n",
    "            save_image(\"output/\" + str(i) + \".png\", generated_image)\n",
    "    \n",
    "    # save last generated image\n",
    "    save_image('output/generated_image.jpg', generated_image)\n",
    "    \n",
    "    return generated_image"
   ]
  },
  {
   "cell_type": "code",
   "execution_count": null,
   "metadata": {},
   "outputs": [],
   "source": [
    "model_nst(sess, generated_image)"
   ]
  }
 ],
 "metadata": {
  "kernelspec": {
   "display_name": "Python [conda env:tf_gpu]",
   "language": "python",
   "name": "conda-env-tf_gpu-py"
  },
  "language_info": {
   "codemirror_mode": {
    "name": "ipython",
    "version": 3
   },
   "file_extension": ".py",
   "mimetype": "text/x-python",
   "name": "python",
   "nbconvert_exporter": "python",
   "pygments_lexer": "ipython3",
   "version": "3.6.8"
  }
 },
 "nbformat": 4,
 "nbformat_minor": 2
}
